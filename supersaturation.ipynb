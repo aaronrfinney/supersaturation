{
 "cells": [
  {
   "cell_type": "markdown",
   "metadata": {},
   "source": [
    "# Supersaturation changes"
   ]
  },
  {
   "cell_type": "markdown",
   "metadata": {},
   "source": [
    "The chemical potential difference between the liquid phase and the crystal defines the thermodynamic driving force for crystallisation:\n",
    "\\begin{equation}\n",
    "\\Delta \\mu_{\\ell \\rightarrow xtal} = \\left( \\mu^0 k_\\mathrm{B} T \\ln a_i \\right) - \\left( \\mu^0 k_\\mathrm{B} T \\ln a^{eq}_i \\right)\n",
    "\\end{equation}\n",
    "\\begin{equation}\n",
    "\\Delta \\mu_{\\ell \\rightarrow xtal} = k_\\mathrm{B} T \\ln \\left( \\frac{a_i}{a^{eq}_i} \\right)\n",
    "\\end{equation}\n",
    "where $a_i$ represent the activity of monomers $i$ in the solution and $a^{eq}_i$ is the activity at equilibrium"
   ]
  },
  {
   "cell_type": "markdown",
   "metadata": {},
   "source": [
    "Let's assume that the solution behaves like an ideal solution, such that we can write,\n",
    "\\begin{equation}\n",
    "\\Delta \\mu_{\\ell \\rightarrow xtal} = k_\\mathrm{B} T \\ln \\left( \\frac{c_i}{c^*_i} \\right)\n",
    "\\end{equation}"
   ]
  },
  {
   "cell_type": "markdown",
   "metadata": {},
   "source": [
    "Accroding to classical nucletion theory, one can evaluate the critical size of monomer clusters, the smallest crystalline cluster to create a new phase with knowledge of \\Delta \\mu_{\\ell \\rightarrow xtal} and the surface tension ($\\gamma$) of the crystal-solution interface:\n",
    "\\begin{equation}\n",
    "n^* = \\left( \\frac{2 \\gamma}{3 \\Delta \\mu_{\\ell \\rightarrow xtal}}   \\right)^3\n",
    "\\end{equation}"
   ]
  },
  {
   "cell_type": "markdown",
   "metadata": {},
   "source": [
    "Let's assume $\\gamma =1$ and test how changes to the solution concentration, as monomers transfer from the liquid to the crystal, affects $n^*$."
   ]
  },
  {
   "cell_type": "code",
   "execution_count": 13,
   "metadata": {},
   "outputs": [],
   "source": [
    "import matplotlib.pyplot as plt\n",
    "import numpy as np"
   ]
  },
  {
   "cell_type": "code",
   "execution_count": 33,
   "metadata": {},
   "outputs": [
    {
     "name": "stdout",
     "output_type": "stream",
     "text": [
      "35 5 30 1.2 7.7781894652429955 48.88911338444042\n",
      "35 10 25 1.0 7.7781894652429955 inf\n",
      "35 15 20 0.8 7.7781894652429955 -26.66694106669931\n",
      "50 5 45 1.8 0.8897128021205647 1.459039453734643\n",
      "50 10 40 1.6 0.8897128021205647 2.8537937892429883\n",
      "50 15 35 1.4 0.8897128021205647 7.7781894652429955\n",
      "100 5 95 3.8 0.11121410026507059 0.12453212091558609\n",
      "100 10 90 3.6 0.11121410026507059 0.14097630386709875\n",
      "100 15 85 3.4 0.11121410026507059 0.1616668709014746\n",
      "150 5 145 5.8 0.051509471959900736 0.05454750798942016\n",
      "150 10 140 5.6 0.051509471959900736 0.05794912657890111\n",
      "150 15 135 5.4 0.051509471959900736 0.06177962256279809\n",
      "200 5 195 7.8 0.032952326004465356 0.034185853033788724\n",
      "200 10 190 7.6 0.032952326004465356 0.03551625236294575\n",
      "200 15 185 7.4 0.032952326004465356 0.036954936342148074\n"
     ]
    },
    {
     "name": "stderr",
     "output_type": "stream",
     "text": [
      "/home/aaron/Packages/anaconda3/lib/python3.7/site-packages/ipykernel_launcher.py:13: RuntimeWarning: divide by zero encountered in double_scalars\n",
      "  del sys.path[0]\n"
     ]
    },
    {
     "data": {
      "image/png": "[encoded data removed]",
      "text/plain": [
       "<Figure size 288x252 with 1 Axes>"
      ]
     },
     "metadata": {
      "needs_background": "light"
     },
     "output_type": "display_data"
    }
   ],
   "source": [
    "\n",
    "c = [35, 50,100,150,200]\n",
    "c_eq = 25\n",
    "di = [5,10,15]\n",
    "gamma = 2.5\n",
    "kT = 2.5\n",
    "cols = ['b','r','g']\n",
    "fig, ax = plt.subplots(figsize=(4,3.5))\n",
    "for i in range(0,len(c)):\n",
    "    for j in range(0,len(di)):\n",
    "        S = (c[i])/c_eq # supersaturation ratio at time=0\n",
    "        n0 = ((2*gamma)/(3*kT*np.log(S)))**3  \n",
    "        S = (c[i]-di[j])/c_eq # supersaturation ratio at end of the simulation\n",
    "        nf = ((2*gamma)/(3*kT*np.log(S)))**3    \n",
    "        Delta_n = nf - n0\n",
    "        print(c[i],di[j],c[i]-di[j],S, n0, nf)\n",
    "        ax.plot(S,Delta_n,'o',color=cols[j])\n",
    "    \n",
    "ax.set_xlabel(r'$S$')\n",
    "ax.set_ylabel(r'$\\Delta n^*$')\n",
    "ax.set_yscale('log')"
   ]
  },
  {
   "cell_type": "code",
   "execution_count": 7,
   "metadata": {},
   "outputs": [
    {
     "data": {
      "text/plain": [
       "5"
      ]
     },
     "execution_count": 7,
     "metadata": {},
     "output_type": "execute_result"
    }
   ],
   "source": [
    "len(c)"
   ]
  },
  {
   "cell_type": "code",
   "execution_count": null,
   "metadata": {},
   "outputs": [],
   "source": []
  }
 ],
 "metadata": {
  "kernelspec": {
   "display_name": "Python 3",
   "language": "python",
   "name": "python3"
  },
  "language_info": {
   "codemirror_mode": {
    "name": "ipython",
    "version": 3
   },
   "file_extension": ".py",
   "mimetype": "text/x-python",
   "name": "python",
   "nbconvert_exporter": "python",
   "pygments_lexer": "ipython3",
   "version": "3.7.3"
  }
 },
 "nbformat": 4,
 "nbformat_minor": 4
}
